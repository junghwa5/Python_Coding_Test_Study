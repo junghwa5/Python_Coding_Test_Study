{
 "cells": [
  {
   "cell_type": "code",
   "execution_count": 7,
   "id": "664f7787",
   "metadata": {},
   "outputs": [
    {
     "name": "stdout",
     "output_type": "stream",
     "text": [
      "5\n",
      "8\n",
      "1 2 2\n",
      "1 3 3\n",
      "1 4 1\n",
      "1 5 10\n",
      "2 4 2\n",
      "3 4 1\n",
      "3 5 1\n",
      "4 5 3\n",
      "1 5\n",
      "4\n"
     ]
    }
   ],
   "source": [
    "import sys, heapq\n",
    "# input = sys.stdin.readline\n",
    "INF = 1e9\n",
    "n = int(input())\n",
    "m = int(input())\n",
    "graph = [[] for _ in range(n+1)]\n",
    "for _ in range(m):\n",
    "    a, b, c = map(int, input().split())\n",
    "    graph[a].append((b, c))\n",
    "s, e = map(int, input().split())\n",
    "cost = [INF] * (n+1)\n",
    "\n",
    "def dijkstra(start):\n",
    "    queue = []\n",
    "    heapq.heappush(queue, (0, start))\n",
    "    cost[start] = 0\n",
    "    \n",
    "    while queue:\n",
    "        dist, now = heapq.heappop(queue)\n",
    "        if cost[now] < dist:\n",
    "            continue\n",
    "        for j in graph[now]:\n",
    "            if dist+j[1] < cost[j[0]]:\n",
    "                cost[j[0]] = dist+j[1]\n",
    "                heapq.heappush(queue, (dist+j[1], j[0]))\n",
    "                \n",
    "dijkstra(s)\n",
    "print(cost[e])"
   ]
  },
  {
   "cell_type": "markdown",
   "id": "48a05a12",
   "metadata": {},
   "source": []
  }
 ],
 "metadata": {
  "kernelspec": {
   "display_name": "Python 3 (ipykernel)",
   "language": "python",
   "name": "python3"
  },
  "language_info": {
   "codemirror_mode": {
    "name": "ipython",
    "version": 3
   },
   "file_extension": ".py",
   "mimetype": "text/x-python",
   "name": "python",
   "nbconvert_exporter": "python",
   "pygments_lexer": "ipython3",
   "version": "3.9.13"
  }
 },
 "nbformat": 4,
 "nbformat_minor": 5
}
