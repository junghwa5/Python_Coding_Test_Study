{
 "cells": [
  {
   "cell_type": "markdown",
   "id": "subjective-texture",
   "metadata": {},
   "source": [
    "## 방법 1"
   ]
  },
  {
   "cell_type": "code",
   "execution_count": 3,
   "id": "worthy-clothing",
   "metadata": {},
   "outputs": [
    {
     "name": "stdout",
     "output_type": "stream",
     "text": [
      "baekjoon\n",
      "1 1 0 0 1 0 0 0 0 1 1 0 0 1 2 0 0 0 0 0 0 0 0 0 0 0\n"
     ]
    }
   ],
   "source": [
    "word = input()\n",
    "alphabet_list = [0]*26\n",
    "\n",
    "for w in word:\n",
    "    alphabet_list[ord(w) - ord('a')] += 1\n",
    "\n",
    "print(*alphabet_list)"
   ]
  },
  {
   "cell_type": "markdown",
   "id": "hungarian-ballet",
   "metadata": {},
   "source": [
    "## 방법 2"
   ]
  },
  {
   "cell_type": "code",
   "execution_count": 5,
   "id": "close-zealand",
   "metadata": {},
   "outputs": [
    {
     "name": "stdout",
     "output_type": "stream",
     "text": [
      "baekjoon\n",
      "1 1 0 0 1 0 0 0 0 1 1 0 0 1 2 0 0 0 0 0 0 0 0 0 0 0\n"
     ]
    }
   ],
   "source": [
    "word = input()\n",
    "alphabet_dict = {'a':0, 'b':0, 'c':0, 'd':0, 'e':0, 'f':0,\n",
    "                 'g':0, 'h':0, 'i':0, 'j':0, 'k':0, 'l':0, \n",
    "                 'm':0, 'n':0, 'o':0, 'p':0, 'q':0, 'r':0, \n",
    "                 's':0, 't':0, 'u':0, 'v':0, 'w':0, 'x':0, 'y':0, 'z':0}\n",
    "\n",
    "for w in word:\n",
    "    alphabet_dict[w] += 1\n",
    "    \n",
    "dic_values = alphabet_dict.values()\n",
    "val_list = list(dic_values)\n",
    "print(*val_list)"
   ]
  },
  {
   "cell_type": "code",
   "execution_count": null,
   "id": "natural-globe",
   "metadata": {},
   "outputs": [],
   "source": []
  }
 ],
 "metadata": {
  "kernelspec": {
   "display_name": "Python 3",
   "language": "python",
   "name": "python3"
  },
  "language_info": {
   "codemirror_mode": {
    "name": "ipython",
    "version": 3
   },
   "file_extension": ".py",
   "mimetype": "text/x-python",
   "name": "python",
   "nbconvert_exporter": "python",
   "pygments_lexer": "ipython3",
   "version": "3.7.1"
  }
 },
 "nbformat": 4,
 "nbformat_minor": 5
}
