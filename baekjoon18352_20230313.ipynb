{
 "cells": [
  {
   "cell_type": "code",
   "execution_count": 11,
   "id": "c6d13874",
   "metadata": {},
   "outputs": [
    {
     "name": "stdout",
     "output_type": "stream",
     "text": [
      "4 4 1 1\n",
      "1 2\n",
      "1 3\n",
      "2 3\n",
      "2 4\n",
      "2\n",
      "3\n"
     ]
    }
   ],
   "source": [
    "import sys, heapq\n",
    "# input = sys.stdin.readline\n",
    "INF = 1e9\n",
    "n, m, k, x = map(int, input().split())\n",
    "graph = [[] for _ in range(n+1)]\n",
    "distance = [INF] * (n+1)\n",
    "for _ in range(m):\n",
    "    a, b = map(int, input().split())\n",
    "    graph[a].append((b, 1))\n",
    "        \n",
    "def dijkstra(start):\n",
    "    queue = []\n",
    "    heapq.heappush(queue, (0, start))\n",
    "    distance[start] = 0\n",
    "    \n",
    "    while queue:\n",
    "        dist, now = heapq.heappop(queue)\n",
    "        if distance[now] < dist:\n",
    "            continue\n",
    "        for i in graph[now]:\n",
    "            if dist+i[1] < distance[i[0]]:\n",
    "                distance[i[0]] = dist+i[1]\n",
    "                heapq.heappush(queue, (dist+i[1], i[0]))\n",
    "\n",
    "dijkstra(x)\n",
    "answer = []\n",
    "for j in range(1, n+1):\n",
    "    if k == distance[j]:\n",
    "        print(j)\n",
    "        answer.append(j)\n",
    "if len(answer) == 0:\n",
    "    print(-1)"
   ]
  }
 ],
 "metadata": {
  "kernelspec": {
   "display_name": "Python 3 (ipykernel)",
   "language": "python",
   "name": "python3"
  },
  "language_info": {
   "codemirror_mode": {
    "name": "ipython",
    "version": 3
   },
   "file_extension": ".py",
   "mimetype": "text/x-python",
   "name": "python",
   "nbconvert_exporter": "python",
   "pygments_lexer": "ipython3",
   "version": "3.9.13"
  }
 },
 "nbformat": 4,
 "nbformat_minor": 5
}
