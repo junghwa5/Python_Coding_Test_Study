{
 "cells": [
  {
   "cell_type": "markdown",
   "id": "smart-cosmetic",
   "metadata": {},
   "source": [
    "## 2진수 -> 8진수"
   ]
  },
  {
   "cell_type": "code",
   "execution_count": 3,
   "id": "expanded-rainbow",
   "metadata": {},
   "outputs": [
    {
     "name": "stdout",
     "output_type": "stream",
     "text": [
      "11001100\n",
      "314\n"
     ]
    }
   ],
   "source": [
    "import sys\n",
    "input = sys.stdin.readline\n",
    "\n",
    "n2 = int(input(), 2)\n",
    "n8 = oct(n)\n",
    "\n",
    "print(n8[2:])"
   ]
  },
  {
   "cell_type": "code",
   "execution_count": 6,
   "id": "fifteen-classification",
   "metadata": {},
   "outputs": [
    {
     "name": "stdout",
     "output_type": "stream",
     "text": [
      "11001100\n",
      "314\n"
     ]
    }
   ],
   "source": [
    "import sys\n",
    "input = sys.stdin.readline\n",
    "\n",
    "a2 = int(input(), 2)\n",
    "a8 = format(a2, 'o')\n",
    "\n",
    "print(a8)"
   ]
  },
  {
   "cell_type": "markdown",
   "id": "blond-narrative",
   "metadata": {},
   "source": [
    "## 2진수 -> 10진수 -> 8진수"
   ]
  },
  {
   "cell_type": "code",
   "execution_count": 5,
   "id": "missing-brain",
   "metadata": {},
   "outputs": [
    {
     "name": "stdout",
     "output_type": "stream",
     "text": [
      "11001100\n",
      "314\n"
     ]
    }
   ],
   "source": [
    "import sys\n",
    "input = sys.stdin.readline\n",
    "\n",
    "n2 = input()\n",
    "\n",
    "n10 = int(n2, 2)\n",
    "n8 = format(n10, 'o')\n",
    "\n",
    "print(n8)"
   ]
  },
  {
   "cell_type": "code",
   "execution_count": null,
   "id": "urban-administration",
   "metadata": {},
   "outputs": [],
   "source": []
  }
 ],
 "metadata": {
  "kernelspec": {
   "display_name": "Python 3",
   "language": "python",
   "name": "python3"
  },
  "language_info": {
   "codemirror_mode": {
    "name": "ipython",
    "version": 3
   },
   "file_extension": ".py",
   "mimetype": "text/x-python",
   "name": "python",
   "nbconvert_exporter": "python",
   "pygments_lexer": "ipython3",
   "version": "3.7.1"
  }
 },
 "nbformat": 4,
 "nbformat_minor": 5
}
