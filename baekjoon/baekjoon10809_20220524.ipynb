{
 "cells": [
  {
   "cell_type": "markdown",
   "id": "statewide-roads",
   "metadata": {},
   "source": [
    "## 방법 1"
   ]
  },
  {
   "cell_type": "code",
   "execution_count": 8,
   "id": "violent-soviet",
   "metadata": {},
   "outputs": [
    {
     "name": "stdout",
     "output_type": "stream",
     "text": [
      "baekjoon\n",
      "1 0 -1 -1 2 -1 -1 -1 -1 4 3 -1 -1 7 5 -1 -1 -1 -1 -1 -1 -1 -1 -1 -1 -1\n"
     ]
    }
   ],
   "source": [
    "word = input()\n",
    "alphabet_list = [-1]*26\n",
    "\n",
    "for i in range(len(word)):\n",
    "    if alphabet_list[ord(word[i]) - ord('a')] == -1:\n",
    "        alphabet_list[ord(word[i]) - ord('a')] = i\n",
    "    \n",
    "print(*alphabet_list)"
   ]
  },
  {
   "cell_type": "markdown",
   "id": "union-prevention",
   "metadata": {},
   "source": [
    "## 방법 2"
   ]
  },
  {
   "cell_type": "code",
   "execution_count": 7,
   "id": "changing-college",
   "metadata": {},
   "outputs": [
    {
     "name": "stdout",
     "output_type": "stream",
     "text": [
      "baekjoon\n",
      "1 0 -1 -1 2 -1 -1 -1 -1 4 3 -1 -1 7 5 -1 -1 -1 -1 -1 -1 -1 -1 -1 -1 -1\n"
     ]
    }
   ],
   "source": [
    "word = input()\n",
    "alphabet_dict = {'a':-1, 'b':-1, 'c':-1, 'd':-1, 'e':-1, 'f':-1,\n",
    "                 'g':-1, 'h':-1, 'i':-1, 'j':-1, 'k':-1, 'l':-1, \n",
    "                 'm':-1, 'n':-1, 'o':-1, 'p':-1, 'q':-1, 'r':-1, \n",
    "                 's':-1, 't':-1, 'u':-1, 'v':-1, 'w':-1, 'x':-1, 'y':-1, 'z':-1}\n",
    "\n",
    "for i in range(len(word)):\n",
    "    if alphabet_dict[word[i]] == -1:\n",
    "        alphabet_dict[word[i]] = i\n",
    "    \n",
    "dic_values = alphabet_dict.values()\n",
    "val_list = list(dic_values)\n",
    "print(*val_list)"
   ]
  },
  {
   "cell_type": "code",
   "execution_count": null,
   "id": "demanding-translation",
   "metadata": {},
   "outputs": [],
   "source": []
  }
 ],
 "metadata": {
  "kernelspec": {
   "display_name": "Python 3",
   "language": "python",
   "name": "python3"
  },
  "language_info": {
   "codemirror_mode": {
    "name": "ipython",
    "version": 3
   },
   "file_extension": ".py",
   "mimetype": "text/x-python",
   "name": "python",
   "nbconvert_exporter": "python",
   "pygments_lexer": "ipython3",
   "version": "3.7.1"
  }
 },
 "nbformat": 4,
 "nbformat_minor": 5
}
