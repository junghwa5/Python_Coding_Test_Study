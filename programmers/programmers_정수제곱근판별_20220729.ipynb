{
 "cells": [
  {
   "cell_type": "markdown",
   "id": "later-language",
   "metadata": {},
   "source": [
    "## 방법 1"
   ]
  },
  {
   "cell_type": "code",
   "execution_count": null,
   "id": "mysterious-record",
   "metadata": {},
   "outputs": [],
   "source": [
    "def solution(n):\n",
    "    answer = -1\n",
    "    num = 1\n",
    "    \n",
    "    while num**2 <= n:\n",
    "        if num**2 == n:\n",
    "            answer = (num+1)**2\n",
    "        num += 1\n",
    "    \n",
    "    return answer"
   ]
  },
  {
   "cell_type": "markdown",
   "id": "individual-greek",
   "metadata": {},
   "source": [
    "## 방법 2"
   ]
  },
  {
   "cell_type": "code",
   "execution_count": null,
   "id": "gothic-chassis",
   "metadata": {},
   "outputs": [],
   "source": [
    "import math\n",
    "\n",
    "def solution(n):\n",
    "    answer = -1\n",
    "    \n",
    "    num = math.sqrt(n)\n",
    "    \n",
    "    if int(num) == num:\n",
    "        answer = (num+1)**2\n",
    "    \n",
    "    return answer"
   ]
  }
 ],
 "metadata": {
  "kernelspec": {
   "display_name": "Python 3",
   "language": "python",
   "name": "python3"
  },
  "language_info": {
   "codemirror_mode": {
    "name": "ipython",
    "version": 3
   },
   "file_extension": ".py",
   "mimetype": "text/x-python",
   "name": "python",
   "nbconvert_exporter": "python",
   "pygments_lexer": "ipython3",
   "version": "3.7.1"
  }
 },
 "nbformat": 4,
 "nbformat_minor": 5
}
