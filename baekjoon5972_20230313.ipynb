{
 "cells": [
  {
   "cell_type": "code",
   "execution_count": 3,
   "id": "2d887e2a",
   "metadata": {},
   "outputs": [
    {
     "name": "stdout",
     "output_type": "stream",
     "text": [
      "6 8\n",
      "4 5 3\n",
      "2 4 0\n",
      "4 1 4\n",
      "2 1 1\n",
      "5 6 1\n",
      "3 6 2\n",
      "3 2 6\n",
      "3 4 4\n",
      "5\n"
     ]
    }
   ],
   "source": [
    "import sys, heapq\n",
    "# input = sys.stdin.readline\n",
    "INF = 1e9\n",
    "n, m = map(int, input().split())\n",
    "graph = [[] for _ in range(n+1)]\n",
    "for _ in range(m):\n",
    "    a, b, c = map(int, input().split())\n",
    "    graph[a].append((b, c))\n",
    "    graph[b].append((a, c))\n",
    "cost = [INF] * (n+1)\n",
    "\n",
    "def dijkstra(start):\n",
    "    queue = []\n",
    "    heapq.heappush(queue, (0, start))\n",
    "    cost[start] = 0\n",
    "    \n",
    "    while queue:\n",
    "        dist, now = heapq.heappop(queue)\n",
    "        if cost[now] < dist:\n",
    "            continue\n",
    "        for j in graph[now]:\n",
    "            if dist+j[1] < cost[j[0]]:\n",
    "                cost[j[0]] = dist+j[1]\n",
    "                heapq.heappush(queue, (dist+j[1], j[0]))\n",
    "                \n",
    "dijkstra(1)\n",
    "print(cost[n])"
   ]
  },
  {
   "cell_type": "code",
   "execution_count": null,
   "id": "1a628018",
   "metadata": {},
   "outputs": [],
   "source": []
  }
 ],
 "metadata": {
  "kernelspec": {
   "display_name": "Python 3 (ipykernel)",
   "language": "python",
   "name": "python3"
  },
  "language_info": {
   "codemirror_mode": {
    "name": "ipython",
    "version": 3
   },
   "file_extension": ".py",
   "mimetype": "text/x-python",
   "name": "python",
   "nbconvert_exporter": "python",
   "pygments_lexer": "ipython3",
   "version": "3.9.13"
  }
 },
 "nbformat": 4,
 "nbformat_minor": 5
}
