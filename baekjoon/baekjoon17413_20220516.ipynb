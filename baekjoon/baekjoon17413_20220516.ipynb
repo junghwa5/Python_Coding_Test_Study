{
 "cells": [
  {
   "cell_type": "code",
   "execution_count": null,
   "id": "improved-guard",
   "metadata": {},
   "outputs": [],
   "source": [
    "str_list = list(input())\n",
    "result = ''\n",
    "word = ''\n",
    "tag = False\n",
    "\n",
    "for s in str_list:\n",
    "    if tag == False:\n",
    "        # 태그 시작\n",
    "        if s == '<':\n",
    "            tag = True\n",
    "            word += s\n",
    "        # 새로운 단어가 시작되므로 기존의 단어는 result로 저장하고 word는 초기화\n",
    "        elif s == ' ':\n",
    "            word += s\n",
    "            result += word\n",
    "            word = ''\n",
    "        # 글씨를 뒤집어야 하므로 기존 글자 앞에 저장\n",
    "        else:\n",
    "            word = s + word\n",
    "    else: # 태그 내부\n",
    "        word += s\n",
    "        if s == '>':\n",
    "            tag = False\n",
    "            result += word\n",
    "            word = ''\n",
    "            \n",
    "print(result + word)"
   ]
  },
  {
   "cell_type": "code",
   "execution_count": null,
   "id": "characteristic-purchase",
   "metadata": {},
   "outputs": [],
   "source": []
  }
 ],
 "metadata": {
  "kernelspec": {
   "display_name": "Python 3",
   "language": "python",
   "name": "python3"
  },
  "language_info": {
   "codemirror_mode": {
    "name": "ipython",
    "version": 3
   },
   "file_extension": ".py",
   "mimetype": "text/x-python",
   "name": "python",
   "nbconvert_exporter": "python",
   "pygments_lexer": "ipython3",
   "version": "3.7.1"
  }
 },
 "nbformat": 4,
 "nbformat_minor": 5
}
