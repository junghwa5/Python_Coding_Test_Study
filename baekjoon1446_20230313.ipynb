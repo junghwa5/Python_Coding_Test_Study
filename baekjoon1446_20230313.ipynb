{
 "cells": [
  {
   "cell_type": "code",
   "execution_count": 12,
   "id": "b091bb6c",
   "metadata": {},
   "outputs": [
    {
     "name": "stdout",
     "output_type": "stream",
     "text": [
      "2 100\n",
      "10 60 40\n",
      "50 90 20\n",
      "80\n"
     ]
    }
   ],
   "source": [
    "import sys, heapq\n",
    "# input = sys.stdin.readline\n",
    "INF = 1e9\n",
    "n, d = map(int, input().split())\n",
    "graph = [[] for i in range(d+1)]\n",
    "for i in range(d):\n",
    "    graph[i].append((i+1, 1))\n",
    "for _ in range(n):\n",
    "    a, b, c = map(int, input().split())\n",
    "    if b > d:\n",
    "        continue\n",
    "    graph[a].append((b, c))\n",
    "distance = [INF] * (d+1)\n",
    "    \n",
    "def dijkstra(start):\n",
    "    queue = []\n",
    "    heapq.heappush(queue, (0, start))\n",
    "    distance[start] = 0\n",
    "    \n",
    "    while queue:\n",
    "        dist, now = heapq.heappop(queue)\n",
    "        if distance[now] < dist:\n",
    "            continue\n",
    "        for j in graph[now]:\n",
    "            if dist+j[1] < distance[j[0]]:\n",
    "                distance[j[0]] = dist+j[1]\n",
    "                heapq.heappush(queue, (dist+j[1], j[0]))\n",
    "                \n",
    "dijkstra(0)\n",
    "print(distance[d])"
   ]
  },
  {
   "cell_type": "markdown",
   "id": "a362cf35",
   "metadata": {},
   "source": []
  }
 ],
 "metadata": {
  "kernelspec": {
   "display_name": "Python 3 (ipykernel)",
   "language": "python",
   "name": "python3"
  },
  "language_info": {
   "codemirror_mode": {
    "name": "ipython",
    "version": 3
   },
   "file_extension": ".py",
   "mimetype": "text/x-python",
   "name": "python",
   "nbconvert_exporter": "python",
   "pygments_lexer": "ipython3",
   "version": "3.9.13"
  }
 },
 "nbformat": 4,
 "nbformat_minor": 5
}
